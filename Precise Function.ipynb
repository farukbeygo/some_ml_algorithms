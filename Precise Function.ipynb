{
 "cells": [
  {
   "cell_type": "code",
   "execution_count": 1,
   "id": "ba003b8a",
   "metadata": {},
   "outputs": [],
   "source": [
    "import numpy as np"
   ]
  },
  {
   "cell_type": "code",
   "execution_count": 2,
   "id": "797e8ca4",
   "metadata": {},
   "outputs": [],
   "source": [
    "def gradient_descent_function(derivative_func, initial_guess, multiplier, precision):\n",
    "    updated_x = initial_guess\n",
    "    list_of_x = [updated_x]\n",
    "    slope_of_x = [derivative_func(updated_x)]\n",
    "    \n",
    "    for step in range(500):\n",
    "        previous_x = updated_x\n",
    "        gradient = derivative_func(previous_x)\n",
    "        updated_x = previous_x - multiplier * gradient\n",
    "        \n",
    "        step_size = abs(updated_x - previous_x)\n",
    "        \n",
    "        list_of_x.append(updated_x)\n",
    "        slope_of_x.append(derivative_func(updated_x))\n",
    "        \n",
    "        if step_size < precision:\n",
    "            break\n",
    "    \n",
    "    return updated_x, list_of_x, slope_of_x"
   ]
  },
  {
   "cell_type": "code",
   "execution_count": null,
   "id": "8756bbf3",
   "metadata": {},
   "outputs": [],
   "source": []
  }
 ],
 "metadata": {
  "kernelspec": {
   "display_name": "Python 3 (ipykernel)",
   "language": "python",
   "name": "python3"
  },
  "language_info": {
   "codemirror_mode": {
    "name": "ipython",
    "version": 3
   },
   "file_extension": ".py",
   "mimetype": "text/x-python",
   "name": "python",
   "nbconvert_exporter": "python",
   "pygments_lexer": "ipython3",
   "version": "3.9.13"
  }
 },
 "nbformat": 4,
 "nbformat_minor": 5
}
